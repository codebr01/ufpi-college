{
 "cells": [
  {
   "cell_type": "code",
   "execution_count": null,
   "metadata": {},
   "outputs": [],
   "source": [
    "f = float(input(\"temp em farenheit: \"))\n",
    "print(f\"{((f - 32)/9)*5:.2f}º Celcius\\n\")"
   ]
  },
  {
   "cell_type": "code",
   "execution_count": null,
   "metadata": {},
   "outputs": [],
   "source": [
    "peso = float(input(\"Peso dos peixes: \"))\n",
    "\n",
    "if peso > 50.00:\n",
    "  print(f\"Excesso de {peso - 50.00:}KG!\\nMulta: R${(peso - 50.00) * 4.00:.2f}.\")\n",
    "else:\n",
    "  print(\"Não execedeu o peso!\")"
   ]
  },
  {
   "cell_type": "code",
   "execution_count": null,
   "metadata": {},
   "outputs": [],
   "source": [
    "cash_for_hora = float(input(\"Quanto você ganha por hora: \"))\n",
    "horas_por_mes = int(input(\"Quantas horas por mês: \"))\n",
    "\n",
    "salario = cash_for_hora * horas_por_mes\n",
    "\n",
    "print(f\"Salario: R${salario:.2f}\\nIR: R${salario * 0.11:.2f}\\nINSS: R${salario * 0.08:.2f}\\nSindicato: R${salario * 0.05:.2f}\\nSalario Liquido: R${salario * 0.76:.2f}\")"
   ]
  },
  {
   "cell_type": "code",
   "execution_count": null,
   "metadata": {},
   "outputs": [],
   "source": [
    "a = float(input('Primeiro lado: '))\n",
    "b = float(input('Segundo  lado: '))\n",
    "c = float(input('Terceiro lado: '))\n",
    "\n",
    "if (a + b < c) or (a + c < b) or (b + c < a):\n",
    "    print('Nao é um triangulo')\n",
    "elif (a == b) and (a == c) :\n",
    "    print('Equilatero')\n",
    "elif (a==b) or (a==c) or (b==c):\n",
    "    print('Isósceles')\n",
    "else:\n",
    "    print('Escaleno')"
   ]
  },
  {
   "cell_type": "code",
   "execution_count": null,
   "metadata": {},
   "outputs": [],
   "source": [
    "preco_gasolina = 4.53\n",
    "preco_alcool = 3.45\n",
    "litros_vendidos = float(input(\"Quantos litros foram vendidos: \"))\n",
    "tipo_combustivel = input(\"A - álcool | G - gasolina\")\n",
    "\n",
    "if tipo_combustivel == 'A':\n",
    "  print(f\"Total a pagar: R${litros_vendidos * preco_alcool:}.\")\n",
    "else:\n",
    "  print(f\"Total a pagar: R${litros_vendidos * preco_gasolina:}.\")\n"
   ]
  },
  {
   "cell_type": "code",
   "execution_count": null,
   "metadata": {},
   "outputs": [],
   "source": [
    "base = int(input(\"Base: \"))\n",
    "exp = int(input(\"Expoente: \"))\n",
    "\n",
    "print(f\"Resultado: {base ** exp:}\")"
   ]
  },
  {
   "cell_type": "code",
   "execution_count": null,
   "metadata": {},
   "outputs": [],
   "source": [
    "num = int(input(\"Numero: \"))\n",
    "y = num\n",
    "soma = 1\n",
    "for i in range(num - 1):\n",
    "  soma = soma * y\n",
    "  y = y - 1\n",
    "\n",
    "print(f\"{soma:}\")"
   ]
  },
  {
   "cell_type": "code",
   "execution_count": null,
   "metadata": {},
   "outputs": [],
   "source": [
    "while True:\n",
    "  num = int(input(\"Numero: \"))\n",
    "  if num >= 1 and num < 16:\n",
    "    y = num\n",
    "    soma = 1\n",
    "    for i in range(num - 1):\n",
    "      soma = soma * y\n",
    "      y = y - 1\n",
    "    print(f\"{soma:}\")\n",
    "  else:\n",
    "    break\n"
   ]
  },
  {
   "cell_type": "code",
   "execution_count": null,
   "metadata": {},
   "outputs": [],
   "source": [
    "tabuada = int(input(\"tabuada: \"))\n",
    "inicio = int(input(\"inicio: \"))\n",
    "final = int(input(\"final: \"))\n",
    "\n",
    "for i in range(inicio,final + 1):\n",
    "  print(f\"{tabuada:} x {inicio:} = {tabuada * inicio:}\")\n",
    "  inicio = inicio + 1"
   ]
  }
 ],
 "metadata": {
  "kernelspec": {
   "display_name": "Python 3",
   "language": "python",
   "name": "python3"
  },
  "language_info": {
   "codemirror_mode": {
    "name": "ipython",
    "version": 3
   },
   "file_extension": ".py",
   "mimetype": "text/x-python",
   "name": "python",
   "nbconvert_exporter": "python",
   "pygments_lexer": "ipython3",
   "version": "3.11.4"
  },
  "orig_nbformat": 4
 },
 "nbformat": 4,
 "nbformat_minor": 2
}
