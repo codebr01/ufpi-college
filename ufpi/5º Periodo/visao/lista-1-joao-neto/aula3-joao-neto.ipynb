{
 "cells": [
  {
   "cell_type": "code",
   "execution_count": 15,
   "metadata": {},
   "outputs": [
    {
     "name": "stdout",
     "output_type": "stream",
     "text": [
      "Data criação da conta: 2023-10-03 19:35:47.534593\n",
      "= - Transações - =\n",
      "Operação de deposito - Valor R$150\n",
      "Operação de saque - Valor R$200\n",
      "Operação de saque - Valor R$100\n",
      "Operação de trânsferencia - Valor R$100\n",
      "Numero: 123-4\n",
      "Saldo: R$600\n"
     ]
    }
   ],
   "source": [
    "import datetime\n",
    "\n",
    "class Historico:\n",
    "  def __init__(self) -> None:\n",
    "    self.data_abertura = datetime.datetime.today()\n",
    "    self.historico = []\n",
    "  \n",
    "  def imprimir_historico(self):\n",
    "    print(f\"Data criação da conta: {self.data_abertura:}\")\n",
    "    print(\"= - Transações - =\")\n",
    "    for h in self.historico:\n",
    "      print(f\"{h:}\")\n",
    "\n",
    "  def add_historico(self,msg):\n",
    "    self.historico.append(msg)\n",
    "\n",
    "class Cliente:\n",
    "  def __init__(self, nome, sobrenome, cpf) -> None:\n",
    "    self.nome = nome\n",
    "    self.sobrenome = sobrenome\n",
    "    self.cpf = cpf\n",
    "\n",
    "class Conta:\n",
    "  def __init__(self,numero, cliente, saldo, limite) -> None:\n",
    "    self.numero = numero\n",
    "    self.titular = cliente\n",
    "    self.saldo = saldo\n",
    "    self.limite = limite\n",
    "    self.historico = Historico()\n",
    "\n",
    "  def depositar(self,valor):\n",
    "    self.saldo += valor\n",
    "    self.historico.add_historico(\"Operação de deposito - Valor R$\" + str(valor))\n",
    "\n",
    "  def sacar(self,valor):\n",
    "    if self.saldo > valor:\n",
    "      self.saldo -= valor\n",
    "      self.historico.add_historico(\"Operação de saque - Valor R$\" + str(valor))\n",
    "      return True\n",
    "    else:\n",
    "      return False\n",
    "    \n",
    "  def transferir(self, destino, valor):\n",
    "    transferencia = self.sacar(valor)\n",
    "    if transferencia != False:\n",
    "      destino.depositar(valor)\n",
    "      self.historico.add_historico(\"Operação de trânsferencia - Valor R$\" + str(valor))\n",
    "      return True\n",
    "    else:\n",
    "      return False\n",
    "\n",
    "  def extrato(self):\n",
    "    print(f\"Numero: {self.numero:}\\nSaldo: R${self.saldo:}\")\n",
    "\n",
    "cl1 = Cliente('Joao','Neto','123')\n",
    "cl2 = Cliente('Joao','Silva','456')\n",
    "\n",
    "c1 = Conta('123-4',cl1,750,1000)\n",
    "c2 = Conta('456-7',cl2,200,1000)\n",
    "\n",
    "c1.depositar(150)\n",
    "c1.sacar(200)\n",
    "c1.transferir(c2,100)\n",
    "\n",
    "c1.historico.imprimir_historico()\n",
    "c1.extrato()\n"
   ]
  }
 ],
 "metadata": {
  "kernelspec": {
   "display_name": "Python 3",
   "language": "python",
   "name": "python3"
  },
  "language_info": {
   "codemirror_mode": {
    "name": "ipython",
    "version": 3
   },
   "file_extension": ".py",
   "mimetype": "text/x-python",
   "name": "python",
   "nbconvert_exporter": "python",
   "pygments_lexer": "ipython3",
   "version": "3.11.4"
  },
  "orig_nbformat": 4
 },
 "nbformat": 4,
 "nbformat_minor": 2
}
