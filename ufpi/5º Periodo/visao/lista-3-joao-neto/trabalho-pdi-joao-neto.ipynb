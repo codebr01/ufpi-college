{
 "cells": [
  {
   "cell_type": "markdown",
   "metadata": {},
   "source": [
    "# Atividades"
   ]
  },
  {
   "cell_type": "markdown",
   "metadata": {},
   "source": [
    "1) Leia uma imagem colorida, transforme a mesma em níveis de cinza e salve o resultado em disco. "
   ]
  },
  {
   "cell_type": "code",
   "execution_count": null,
   "metadata": {},
   "outputs": [],
   "source": [
    "from skimage.io import imread\n",
    "from skimage.color import rgb2gray\n",
    "import matplotlib.pyplot as plt\n",
    "\n",
    "imagem = imread('picos.jpg')\n",
    "\n",
    "cinza = rgb2gray(imagem)\n",
    "\n",
    "plt.imshow(cinza, cmap='gray')\n",
    "\n",
    "plt.imsave('picos_cinza.jpg',cinza)"
   ]
  },
  {
   "cell_type": "markdown",
   "metadata": {},
   "source": [
    "2) Leia uma imagem colorida, transforme a mesma em níveis de cinza. Após isso, atribua o valor zero a todos os pixels cujo vizinho à direita tenha o mesmo valor de intensidade. Salve o resultado em disco."
   ]
  },
  {
   "cell_type": "code",
   "execution_count": null,
   "metadata": {
    "collapsed": true,
    "jupyter": {
     "outputs_hidden": true
    }
   },
   "outputs": [],
   "source": [
    "from skimage.io import imread\n",
    "from skimage.color import rgb2gray\n",
    "import matplotlib.pyplot as plt\n",
    "\n",
    "imagem = imread('picos.jpg')\n",
    "\n",
    "imagem_cinza = rgb2gray(imagem)\n",
    "\n",
    "imagem_resultado = imagem_cinza\n",
    "\n",
    "linhas,colunas,dimensao = imagem.shape\n",
    "\n",
    "for y in range(linhas):\n",
    "    for x in range(colunas - 1):\n",
    "        if imagem_cinza[y, x] == imagem_cinza[y, x + 1]:\n",
    "            imagem_resultado[y, x] = 0\n",
    "\n",
    "\n",
    "plt.imshow(imagem_resultado, cmap='gray')\n",
    "\n",
    "plt.imsave('imagem_resultado.jpg',imagem_resultado)"
   ]
  },
  {
   "cell_type": "markdown",
   "metadata": {},
   "source": [
    "3) Leia uma imagem colorida, calcule as componentes no modelo de cores RGB. Calcule a maior e menor intensidade dos pixels em cada componente."
   ]
  },
  {
   "cell_type": "code",
   "execution_count": null,
   "metadata": {},
   "outputs": [],
   "source": [
    "from skimage.io import imread\n",
    "import matplotlib.pyplot as plt\n",
    "\n",
    "imagem = imread('picos.jpg')\n",
    "\n",
    "red = imagem[:,:,0]\n",
    "green = imagem[:,:,1]\n",
    "blue = imagem[:,:,2]\n",
    "\n",
    "maior_red = red[0,0]\n",
    "maior_green = green[0,0]\n",
    "maior_blue = blue[0,0]\n",
    "\n",
    "linhas,colunas,dimensao = imagem.shape\n",
    "\n",
    "for l in range(linhas):\n",
    "    for c in range(colunas):\n",
    "        if(red[l,c] > maior_red):\n",
    "            maior_red = red[l,c]\n",
    "\n",
    "for l in range(linhas):\n",
    "    for c in range(colunas):\n",
    "        if(green[l,c] > maior_green):\n",
    "            maior_green = green[l,c]\n",
    "\n",
    "for l in range(linhas):\n",
    "    for c in range(colunas):\n",
    "        if(blue[l,c] > maior_blue):\n",
    "            maior_blue = blue[l,c]\n",
    "\n",
    "print(f\"Maior Red: {maior_red}\\nMaior Green: {maior_green}\\nMaior Blue: {maior_blue}\")"
   ]
  },
  {
   "cell_type": "markdown",
   "metadata": {},
   "source": [
    "4) Leia uma imagem colorida, calcule as componentes no modelo de cores RGB.  Atribua o valor 255 a todos os pixels com intensidade maior que 150, faça isso em cada componente. Após isso, junte as componentes para formar uma imagem colorida novamente e salve o resultado."
   ]
  },
  {
   "cell_type": "code",
   "execution_count": null,
   "metadata": {},
   "outputs": [],
   "source": [
    "from skimage.io import imread\n",
    "import matplotlib.pyplot as plt\n",
    "import cv2\n",
    "\n",
    "imagem = imread('picos.jpg')\n",
    "\n",
    "red = imagem[:,:,0]\n",
    "green = imagem[:,:,1]\n",
    "blue = imagem[:,:,2]\n",
    "\n",
    "valor_corte = 150\n",
    "\n",
    "altura, largura = red.shape\n",
    "\n",
    "for y in range(altura):\n",
    "    for x in range(largura):\n",
    "        if red[y, x] > valor_corte:\n",
    "            red[y, x] = 255\n",
    "        if green[y, x] > valor_corte:\n",
    "            green[y, x] = 255\n",
    "        if blue[y, x] > valor_corte:\n",
    "            blue[y, x] = 255\n",
    "\n",
    "imagem_resultante = cv2.merge((red, green, blue))\n",
    "\n",
    "# Salve o resultado em disco\n",
    "cv2.imwrite('picos_resultante.jpg', imagem_resultante)\n"
   ]
  },
  {
   "cell_type": "markdown",
   "metadata": {},
   "source": [
    "5) Aplique ruído em uma imagem utilizando a função \"skimage.util.random_noise\" com os seguites parâmentros: ‘s&p’,‘gaussian’ e ‘speckle’. Cada um desses parâmetros irá gerar uma imagem com ruído. Após isso, aplique funções disponíveis em 'skimage.filters' para recuperar as imagens."
   ]
  },
  {
   "cell_type": "code",
   "execution_count": null,
   "metadata": {
    "collapsed": true,
    "jupyter": {
     "outputs_hidden": true
    }
   },
   "outputs": [],
   "source": [
    "from skimage.io import imread\n",
    "from skimage.util import random_noise\n",
    "from skimage.filters import median, gaussian\n",
    "from skimage import morphology\n",
    "import matplotlib.pyplot as plt\n",
    "import numpy as np\n",
    "\n",
    "imagem = imread('picos.jpg')\n",
    "\n",
    "img_mode1 = random_noise(imagem, mode='s&p')\n",
    "\n",
    "img_mode2 = random_noise(imagem, mode='gaussian')\n",
    "\n",
    "img_mode3 = random_noise(imagem, mode='speckle')\n",
    "\n",
    "img_mode1_recuperada = median(img_mode1,selem=morphology.disk(3))\n",
    "\n",
    "img_mode2_recuperada = gaussian(img_mode2, sigma=1)\n",
    "\n",
    "img_mode3_recuperada = median(img_mode3, selem=morphology.disk(3))\n"
   ]
  },
  {
   "cell_type": "markdown",
   "metadata": {},
   "source": [
    "6) Aplique pelo menos 3 métodos diferentes para binarizar uma imagem ('skimage.filters')."
   ]
  },
  {
   "cell_type": "code",
   "execution_count": null,
   "metadata": {
    "collapsed": true,
    "jupyter": {
     "outputs_hidden": true
    }
   },
   "outputs": [],
   "source": [
    "import matplotlib.pyplot as plt\n",
    "from skimage import io, color, filters\n",
    "\n",
    "imagem = io.imread('picos.jpg', as_gray=True)\n",
    "\n",
    "imagem_binarizada_otsu = imagem > filters.threshold_otsu(imagem)\n",
    "plt.imsave('imagem_binarizada_otsu.jpg',imagem_binarizada_otsu)\n",
    "\n",
    "imagem_binarizada_adaptativa = filters.threshold_local(imagem, block_size=101, offset=10)\n",
    "plt.imsave('imagem_binarizada_adaptativa.jpg',imagem_binarizada_adaptativa)\n",
    "\n",
    "imagem_binarizada_sauvola = filters.threshold_sauvola(imagem, window_size=25, k=0.2)\n",
    "plt.imsave('imagem_binarizada_sauvola.jpg',imagem_binarizada_sauvola)\n",
    "\n",
    "plt.figure(figsize=(10, 10))\n",
    "\n",
    "plt.subplot(2, 2, 1)\n",
    "plt.title('Imagem Original')\n",
    "plt.imshow(imagem, cmap='gray')\n",
    "\n",
    "plt.subplot(2, 2, 2)\n",
    "plt.title('Binarização de Otsu')\n",
    "plt.imshow(imagem_binarizada_otsu, cmap='gray')\n",
    "\n",
    "plt.subplot(2, 2, 3)\n",
    "plt.title('Binarização Adaptativa')\n",
    "plt.imshow(imagem_binarizada_adaptativa, cmap='gray')\n",
    "\n",
    "plt.subplot(2, 2, 4)\n",
    "plt.title('Binarização de Sauvola')\n",
    "plt.imshow(imagem_binarizada_sauvola, cmap='gray')\n",
    "\n",
    "plt.show()\n"
   ]
  },
  {
   "cell_type": "markdown",
   "metadata": {},
   "source": [
    "7) Aplique pelo menos 3 métodos diferentes ('skimage.filters') para calcular as bordas de uma imagem utilizando como entrada o resultado da questão anterior."
   ]
  },
  {
   "cell_type": "code",
   "execution_count": null,
   "metadata": {},
   "outputs": [],
   "source": [
    "import matplotlib.pyplot as plt\n",
    "from skimage import io\n",
    "from skimage.filters import sobel_h,sobel_v, scharr_v,scharr_h\n",
    "import numpy as np\n",
    "\n",
    "imagem_binarizada = io.imread('imagem_binarizada_sauvola.jpg', as_gray=True)\n",
    "\n",
    "gradiente_x = sobel_h(imagem_binarizada)\n",
    "gradiente_y = sobel_v(imagem_binarizada)\n",
    "bordas_sobel = np.hypot(gradiente_x, gradiente_y)\n",
    "\n",
    "gradiente_x = scharr_h(imagem_binarizada)\n",
    "gradiente_y = scharr_v(imagem_binarizada)\n",
    "bordas_scharr = np.hypot(gradiente_x, gradiente_y)\n",
    "\n",
    "plt.figure(figsize=(12, 4))\n",
    "\n",
    "plt.subplot(1, 4, 3)\n",
    "plt.title('Detecção de Bordas (Sobel)')\n",
    "plt.imshow(bordas_sobel, cmap='gray')\n",
    "\n",
    "plt.subplot(1, 4, 4)\n",
    "plt.title('Detecção de Bordas (Scharr)')\n",
    "plt.imshow(bordas_scharr, cmap='gray')\n",
    "\n",
    "plt.show()\n"
   ]
  },
  {
   "cell_type": "markdown",
   "metadata": {},
   "source": [
    "8) Recorte uma imagem da seguinte forma:\n",
    "- O corte será feito no canal de cor com a maior média de pixels.\n",
    "- O centro do corte deve ser o pixel com o maior desvio padrão em uma janela 3x3.\n",
    "- O tamanho do recorte será 1/4 do tamanho da imagem. Ex: Imagem 100 x 80 -> Recorte 25 x 20\n",
    "- Cuidado com as bordas! Caso uma janela fique fora da imagem, o centro do recorte deverá ser alterado."
   ]
  },
  {
   "cell_type": "code",
   "execution_count": 16,
   "metadata": {},
   "outputs": [],
   "source": [
    "import cv2\n",
    "import numpy as np\n",
    "\n",
    "imagem = cv2.imread('picos.jpg')\n",
    "\n",
    "canal_com_maior_media = np.argmax(np.mean(imagem, axis=(0, 1)))\n",
    "\n",
    "canal = imagem[:, :, canal_com_maior_media]\n",
    "\n",
    "desvio_padrao = cv2.filter2D(canal, -1, np.array([[1, 1, 1], [1, 1, 1], [1, 1, 1]])) / 9\n",
    "\n",
    "posicao_max_desvio = np.unravel_index(np.argmax(desvio_padrao), desvio_padrao.shape)\n",
    "\n",
    "altura, largura = imagem.shape[:2]\n",
    "novo_largura = largura // 4\n",
    "novo_altura = altura // 4\n",
    "\n",
    "metade_largura = novo_largura // 2\n",
    "metade_altura = novo_altura // 2\n",
    "\n",
    "if posicao_max_desvio[0] - metade_altura < 0:\n",
    "    posicao_max_desvio = (metade_altura, posicao_max_desvio[1])\n",
    "elif posicao_max_desvio[0] + metade_altura >= altura:\n",
    "    posicao_max_desvio = (altura - metade_altura - 1, posicao_max_desvio[1])\n",
    "\n",
    "if posicao_max_desvio[1] - metade_largura < 0:\n",
    "    posicao_max_desvio = (posicao_max_desvio[0], metade_largura)\n",
    "elif posicao_max_desvio[1] + metade_largura >= largura:\n",
    "    posicao_max_desvio = (posicao_max_desvio[0], largura - metade_largura - 1)\n",
    "\n",
    "recorte = imagem[(posicao_max_desvio[0] - metade_altura):(posicao_max_desvio[0] + metade_altura),(posicao_max_desvio[1] - metade_largura):(posicao_max_desvio[1] + metade_largura)]\n",
    "\n",
    "cv2.imshow('Recorte', recorte)\n",
    "cv2.waitKey(0)\n",
    "cv2.destroyAllWindows()\n"
   ]
  }
 ],
 "metadata": {
  "anaconda-cloud": {},
  "kernelspec": {
   "display_name": "Python 3",
   "language": "python",
   "name": "python3"
  },
  "language_info": {
   "codemirror_mode": {
    "name": "ipython",
    "version": 3
   },
   "file_extension": ".py",
   "mimetype": "text/x-python",
   "name": "python",
   "nbconvert_exporter": "python",
   "pygments_lexer": "ipython3",
   "version": "3.11.4"
  }
 },
 "nbformat": 4,
 "nbformat_minor": 4
}
