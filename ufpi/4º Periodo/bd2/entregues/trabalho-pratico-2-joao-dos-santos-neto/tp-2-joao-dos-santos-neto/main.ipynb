{
 "cells": [
  {
   "cell_type": "code",
   "execution_count": 1,
   "metadata": {},
   "outputs": [],
   "source": [
    "import pandas as pd\n",
    "import csv\n",
    "import numpy as np\n",
    "import datetime"
   ]
  },
  {
   "cell_type": "code",
   "execution_count": 2,
   "metadata": {},
   "outputs": [],
   "source": [
    "data = pd.read_csv('service_event.csv')\n",
    "dataset = data.sort_values(by='duration')\n",
    "lista = dataset.to_numpy()"
   ]
  },
  {
   "cell_type": "code",
   "execution_count": 16,
   "metadata": {},
   "outputs": [],
   "source": [
    "# gerando 100 arquivos\n",
    "def gerar_arquivos_csv():\n",
    "    x = 1\n",
    "    for i in range(100):\n",
    "        file = open('service_event'+str(i+1)+'.csv','w',newline='')\n",
    "        w = csv.writer(file)\n",
    "        for j in range(7815):\n",
    "            try:\n",
    "                w.writerow(lista[x])\n",
    "            except IndexError:\n",
    "                continue\n",
    "            x += 1\n",
    "        file.close()\n",
    "    print('\\nArquivos Gerados!\\n')"
   ]
  },
  {
   "cell_type": "code",
   "execution_count": 9,
   "metadata": {},
   "outputs": [],
   "source": [
    "# fazendo busca sequencial\n",
    "def busca_sequencial():\n",
    "    contador = 0\n",
    "    data_comp = datetime.datetime(2018,6,29,12,00,00)\n",
    "    for i in range(100):\n",
    "        data2 = pd.read_csv('service_event'+str(i+1)+'.csv')\n",
    "        lista = data2.to_numpy()\n",
    "        for j in range(7815):\n",
    "            try:\n",
    "                data_if = datetime.datetime(int(lista[j][5][0:4]),int(lista[j][5][5:7]),int(lista[j][5][8:10]), int(lista[j][5][11:13]),int(lista[j][5][14:16]), int(lista[j][5][17:19]))\n",
    "                valor = lista[j][3]\n",
    "                if valor > 1000 and data_if <= data_comp:\n",
    "                    contador += 1\n",
    "            except IndexError:\n",
    "                break\n",
    "    print(f\"Eventos que atenderam a condição: {contador:}\")\n"
   ]
  },
  {
   "cell_type": "code",
   "execution_count": 7,
   "metadata": {},
   "outputs": [],
   "source": [
    "def menu():\n",
    "    r = int(input('(1)dividir arquivo em csv em blocos;\\n(2) consulta sem indexação;\\\\n(3) consulta com indexação.'))\n",
    "    return r"
   ]
  },
  {
   "cell_type": "code",
   "execution_count": 17,
   "metadata": {},
   "outputs": [
    {
     "name": "stdout",
     "output_type": "stream",
     "text": [
      "\n",
      "Arquivos Gerados!\n",
      "\n"
     ]
    }
   ],
   "source": [
    "r = menu()\n",
    "if r == 1:\n",
    "    gerar_arquivos_csv()\n",
    "elif r == 2:\n",
    "    busca_sequencial()\n",
    "elif r == 3:\n",
    "    print('Função não implementada\\n')"
   ]
  },
  {
   "cell_type": "markdown",
   "metadata": {},
   "source": []
  }
 ],
 "metadata": {
  "kernelspec": {
   "display_name": "Python 3",
   "language": "python",
   "name": "python3"
  },
  "language_info": {
   "codemirror_mode": {
    "name": "ipython",
    "version": 3
   },
   "file_extension": ".py",
   "mimetype": "text/x-python",
   "name": "python",
   "nbconvert_exporter": "python",
   "pygments_lexer": "ipython3",
   "version": "3.10.6"
  },
  "orig_nbformat": 4
 },
 "nbformat": 4,
 "nbformat_minor": 2
}
